{
 "cells": [
  {
   "cell_type": "markdown",
   "metadata": {},
   "source": [
    "# Speed Detection Using TensorFlow"
   ]
  },
  {
   "cell_type": "markdown",
   "metadata": {},
   "source": [
    "## Imports"
   ]
  },
  {
   "cell_type": "code",
   "execution_count": 121,
   "metadata": {},
   "outputs": [],
   "source": [
    "import cv2\n",
    "import pandas as pd\n",
    "from PIL import Image\n",
    "import matplotlib.pyplot as plt\n",
    "import cv2\n",
    "import numpy as np\n",
    "\n",
    "import tensorflow as tf\n",
    "from keras import Input\n",
    "from keras.models import Sequential, load_model\n",
    "from keras.layers import Conv2D,MaxPool2D,Dense,Flatten,Dropout,Lambda\n",
    "from keras.optimizers import Adam"
   ]
  },
  {
   "cell_type": "markdown",
   "metadata": {},
   "source": [
    "## Setup Data"
   ]
  },
  {
   "cell_type": "code",
   "execution_count": 51,
   "metadata": {
    "scrolled": true
   },
   "outputs": [],
   "source": [
    "#video - filename of video\n",
    "#data - \"test\" or \"train\"\n",
    "\n",
    "def VideoToImages(video,data):\n",
    "    filepath = data+'/'\n",
    "    vid = cv2.VideoCapture(filepath+data+\".mp4\")\n",
    "    i=0\n",
    "    success,frame = vid.read()\n",
    "    images = []\n",
    "    while success:\n",
    "        imgname = data+str(i)+\".jpg\"\n",
    "        images.append(filepath+imgname)\n",
    "        #cv2.imwrite(filepath+imgname,frame)\n",
    "        success,frame = vid.read()\n",
    "        i+=1\n",
    "\n",
    "    vid.release()\n",
    "    print(\"done\")\n",
    "    return images\n"
   ]
  },
  {
   "cell_type": "code",
   "execution_count": 52,
   "metadata": {},
   "outputs": [
    {
     "name": "stdout",
     "output_type": "stream",
     "text": [
      "done\n"
     ]
    },
    {
     "data": {
      "text/html": [
       "<div>\n",
       "<style scoped>\n",
       "    .dataframe tbody tr th:only-of-type {\n",
       "        vertical-align: middle;\n",
       "    }\n",
       "\n",
       "    .dataframe tbody tr th {\n",
       "        vertical-align: top;\n",
       "    }\n",
       "\n",
       "    .dataframe thead th {\n",
       "        text-align: right;\n",
       "    }\n",
       "</style>\n",
       "<table border=\"1\" class=\"dataframe\">\n",
       "  <thead>\n",
       "    <tr style=\"text-align: right;\">\n",
       "      <th></th>\n",
       "      <th>speed</th>\n",
       "      <th>images</th>\n",
       "    </tr>\n",
       "  </thead>\n",
       "  <tbody>\n",
       "    <tr>\n",
       "      <th>0</th>\n",
       "      <td>28.105569</td>\n",
       "      <td>train/train0.jpg</td>\n",
       "    </tr>\n",
       "    <tr>\n",
       "      <th>1</th>\n",
       "      <td>28.105569</td>\n",
       "      <td>train/train1.jpg</td>\n",
       "    </tr>\n",
       "    <tr>\n",
       "      <th>2</th>\n",
       "      <td>28.106527</td>\n",
       "      <td>train/train2.jpg</td>\n",
       "    </tr>\n",
       "    <tr>\n",
       "      <th>3</th>\n",
       "      <td>28.130404</td>\n",
       "      <td>train/train3.jpg</td>\n",
       "    </tr>\n",
       "    <tr>\n",
       "      <th>4</th>\n",
       "      <td>28.109243</td>\n",
       "      <td>train/train4.jpg</td>\n",
       "    </tr>\n",
       "  </tbody>\n",
       "</table>\n",
       "</div>"
      ],
      "text/plain": [
       "       speed            images\n",
       "0  28.105569  train/train0.jpg\n",
       "1  28.105569  train/train1.jpg\n",
       "2  28.106527  train/train2.jpg\n",
       "3  28.130404  train/train3.jpg\n",
       "4  28.109243  train/train4.jpg"
      ]
     },
     "execution_count": 52,
     "metadata": {},
     "output_type": "execute_result"
    }
   ],
   "source": [
    "train = pd.read_table(\"train/train.txt\",names=[\"speed\"])\n",
    "trainimages = VideoToImages(\"train.mp4\",\"train\")\n",
    "train['images'] = trainimages\n",
    "train.head()"
   ]
  },
  {
   "cell_type": "code",
   "execution_count": 47,
   "metadata": {},
   "outputs": [
    {
     "data": {
      "text/plain": [
       "[<matplotlib.lines.Line2D at 0x7fa556b2ebb0>]"
      ]
     },
     "execution_count": 47,
     "metadata": {},
     "output_type": "execute_result"
    },
    {
     "data": {
      "image/png": "[encoded data removed]",
      "text/plain": [
       "<Figure size 432x288 with 1 Axes>"
      ]
     },
     "metadata": {
      "needs_background": "light"
     },
     "output_type": "display_data"
    }
   ],
   "source": [
    "plt.plot(train.index,train.speed)"
   ]
  },
  {
   "cell_type": "code",
   "execution_count": 55,
   "metadata": {},
   "outputs": [
    {
     "name": "stdout",
     "output_type": "stream",
     "text": [
      "done\n"
     ]
    },
    {
     "data": {
      "text/plain": [
       "['test/test0.jpg',\n",
       " 'test/test1.jpg',\n",
       " 'test/test2.jpg',\n",
       " 'test/test3.jpg',\n",
       " 'test/test4.jpg']"
      ]
     },
     "execution_count": 55,
     "metadata": {},
     "output_type": "execute_result"
    }
   ],
   "source": [
    "testimages = VideoToImages(\"test.mp4\",\"test\")\n",
    "testimages[0:5]"
   ]
  },
  {
   "cell_type": "markdown",
   "metadata": {},
   "source": [
    "## Preprocessing Images"
   ]
  },
  {
   "cell_type": "code",
   "execution_count": null,
   "metadata": {},
   "outputs": [],
   "source": [
    "def display_one(a,title1='Original'):\n",
    "    plt.imshow(a)\n",
    "    plt.title(title1)\n",
    "    plt.xticks([])\n",
    "    plt.yticks([])\n",
    "    plt.show()\n",
    "    \n",
    "def display(a,b,title1='Original',title2='Edited'):\n",
    "    plt.subplot(121)\n",
    "    plt.imshow(a)\n",
    "    plt.title(title1)\n",
    "    #plt.xticks([])\n",
    "    #plt.yticks([])\n",
    "    plt.subplot(122)\n",
    "    plt.imshow(b)\n",
    "    plt.title(title2)\n",
    "    #plt.xticks([])\n",
    "    #plt.yticks([])\n",
    "    plt.show()\n",
    "    \n",
    "def processing(data,h,w):\n",
    "    #load image\n",
    "    img = [cv2.imread(i,cv2.IMREAD_UNCHANGED) for i in data[:3]]\n",
    "    #print('Original Size',img[0].shape)\n",
    "\n",
    "    #set dims for resize\n",
    "    dim = (w,h)\n",
    "    res_img = []\n",
    "    for i in range(len(img)):\n",
    "        res = cv2.resize(img[i],dim,interpolation=cv2.INTER_AREA)\n",
    "        res_img.append(res)\n",
    "\n",
    "    #print('Resized', res_img[0].shape)\n",
    "    display(img[0],res_img[0])\n",
    "    "
   ]
  },
  {
   "cell_type": "code",
   "execution_count": null,
   "metadata": {},
   "outputs": [],
   "source": [
    "display_one(Image.open(train.images[0]))\n",
    "processing(train.images,66,220)"
   ]
  },
  {
   "cell_type": "markdown",
   "metadata": {},
   "source": [
    "## Model"
   ]
  },
  {
   "cell_type": "code",
   "execution_count": 119,
   "metadata": {},
   "outputs": [],
   "source": [
    "def model():\n",
    "    #Recreating of FlowNetC\n",
    "    inputA = Input(shape=(384,512,3))\n",
    "    inputB = Input(shape=(384,512,3))\n",
    "    \n",
    "    x = Conv2D(filters=3,kernel_size=(7.7),activation=\"relu\")\n",
    "    \n",
    "    \n",
    "    \n",
    "    \n",
    "    \n",
    "    model = Sequential()\n",
    "    \n",
    "    model.add(Lambda(lambda x:x/127.5-1,input_shape=inputShape))\n",
    "    model.add(Conv2D(filters=24,kernel_size=(5,5),strides=(2,2),activation='relu'))\n",
    "    model.add(Conv2D(filters=36,kernel_size=(5,5),strides=(2,2),activation='relu'))\n",
    "    model.add(Conv2D(filters=48,kernel_size=(5,5),strides=(2,2),activation='relu'))\n",
    "    model.add(Conv2D(filters=64,kernel_size=(3,3),activation='relu'))\n",
    "    model.add(Conv2D(filters=64,kernel_size=(3,3),activation='relu'))\n",
    "    model.add(Flatten())\n",
    "    model.add(Dense(100,activation='relu'))\n",
    "    model.add(Dense(50,activation='relu'))\n",
    "    model.add(Dense(10,activation='relu'))\n",
    "    model.add(Dense(1))\n",
    "    \n",
    "    adam = Adam(lr=1e-4,beta_1=.9,beta_2=.999,epsilon=1e-08,decay=0.0)\n",
    "    model.compile(optimizer=adam,loss='mse')\n",
    "    return model\n",
    "    "
   ]
  },
  {
   "cell_type": "code",
   "execution_count": 120,
   "metadata": {},
   "outputs": [
    {
     "name": "stdout",
     "output_type": "stream",
     "text": [
      "Model: \"sequential_5\"\n",
      "_________________________________________________________________\n",
      "Layer (type)                 Output Shape              Param #   \n",
      "=================================================================\n",
      "lambda_5 (Lambda)            (None, 66, 200, 3)        0         \n",
      "_________________________________________________________________\n",
      "conv2d_21 (Conv2D)           (None, 31, 98, 24)        1824      \n",
      "_________________________________________________________________\n",
      "conv2d_22 (Conv2D)           (None, 14, 47, 36)        21636     \n",
      "_________________________________________________________________\n",
      "conv2d_23 (Conv2D)           (None, 5, 22, 48)         43248     \n",
      "_________________________________________________________________\n",
      "conv2d_24 (Conv2D)           (None, 3, 20, 64)         27712     \n",
      "_________________________________________________________________\n",
      "conv2d_25 (Conv2D)           (None, 1, 18, 64)         36928     \n",
      "_________________________________________________________________\n",
      "flatten_5 (Flatten)          (None, 1152)              0         \n",
      "_________________________________________________________________\n",
      "dense_17 (Dense)             (None, 100)               115300    \n",
      "_________________________________________________________________\n",
      "dense_18 (Dense)             (None, 50)                5050      \n",
      "_________________________________________________________________\n",
      "dense_19 (Dense)             (None, 10)                510       \n",
      "_________________________________________________________________\n",
      "dense_20 (Dense)             (None, 1)                 11        \n",
      "=================================================================\n",
      "Total params: 252,219\n",
      "Trainable params: 252,219\n",
      "Non-trainable params: 0\n",
      "_________________________________________________________________\n"
     ]
    }
   ],
   "source": [
    "model().summary()"
   ]
  }
 ],
 "metadata": {
  "kernelspec": {
   "display_name": "Python 3",
   "language": "python",
   "name": "python3"
  },
  "language_info": {
   "codemirror_mode": {
    "name": "ipython",
    "version": 3
   },
   "file_extension": ".py",
   "mimetype": "text/x-python",
   "name": "python",
   "nbconvert_exporter": "python",
   "pygments_lexer": "ipython3",
   "version": "3.8.2"
  }
 },
 "nbformat": 4,
 "nbformat_minor": 4
}
